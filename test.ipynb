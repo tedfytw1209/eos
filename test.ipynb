{
 "cells": [
  {
   "cell_type": "code",
   "execution_count": 1,
   "id": "eafeef45",
   "metadata": {},
   "outputs": [],
   "source": [
    "from eos import *\n",
    "from eos.item_filter import *\n",
    "\n",
    "\n",
    "data_handler = JsonDataHandler('data_folder/phobos_tq_en-us/')  # Folder with Phobos data dump\n",
    "cache_handler = JsonCacheHandler('data_folder/cache/eos_tq.json.bz2')\n",
    "SourceManager.add('tiamat', data_handler, cache_handler, make_default=True)\n",
    "\n",
    "skill_groups = set(row['groupID'] for row in data_handler.get_evegroups() if row['categoryID'] == 16)\n",
    "skills = set(row['typeID'] for row in data_handler.get_evetypes() if row['groupID'] in skill_groups)\n",
    "\n",
    "fit = Fit()\n",
    "fit.ship = Ship(32311)  # Navy Typhoon\n",
    "\n",
    "for skill_id in skills:\n",
    "    fit.skills.add(Skill(skill_id, level=5))\n",
    "\n",
    "# 4x 800mm with hail\n",
    "fit.modules.high.equip(ModuleHigh(2929, state=State.active, charge=Charge(12779)))\n",
    "fit.modules.high.equip(ModuleHigh(2929, state=State.active, charge=Charge(12779)))\n",
    "fit.modules.high.equip(ModuleHigh(2929, state=State.active, charge=Charge(12779)))\n",
    "fit.modules.high.equip(ModuleHigh(2929, state=State.active, charge=Charge(12779)))\n",
    "# 4x Torp launcher with nova rages\n",
    "fit.modules.high.equip(ModuleHigh(2420, state=State.active, charge=Charge(24519)))\n",
    "fit.modules.high.equip(ModuleHigh(2420, state=State.active, charge=Charge(24519)))\n",
    "#Pithum C-Type Medium Remote Shield Booster\n",
    "fit.modules.high.equip(ModuleHigh(19147, state=State.active))\n",
    "fit.modules.high.equip(ModuleHigh(19147, state=State.active))\n",
    "\n",
    "fit.modules.mid.equip(ModuleMid(5945, state=State.overload))  # Top named 100MN MWD\n",
    "fit.modules.mid.equip(ModuleMid(4833, state=State.active, charge=Charge(32014)))  # Named med cap injector with 800\n",
    "fit.modules.mid.equip(ModuleMid(9622, state=State.active))  # Named EM hardener\n",
    "fit.modules.mid.equip(ModuleMid(5443, state=State.active))  # Best named scram\n",
    "fit.modules.mid.equip(ModuleMid(2281, state=State.active))  # T2 invuln\n",
    "\n",
    "fit.modules.low.equip(ModuleLow(2048, state=State.active))   # T2 DC\n",
    "fit.modules.low.equip(ModuleLow(519, state=State.active))    # T2 gyrostab\n",
    "fit.modules.low.equip(ModuleLow(519, state=State.active))    # T2 gyrostab\n",
    "fit.modules.low.equip(ModuleLow(22291, state=State.active))  # T2 BCU\n",
    "fit.modules.low.equip(ModuleLow(22291, state=State.active))  # T2 BCU\n",
    "fit.modules.low.equip(ModuleLow(4405, state=State.active))   # T2 DDA\n",
    "fit.modules.low.equip(ModuleLow(4405, state=State.active))   # T2 DDA\n",
    "\n",
    "fit.rigs.add(Rig(26082))  # T1 therm rig\n",
    "fit.rigs.add(Rig(26088))  # T1 extender\n",
    "fit.rigs.add(Rig(26088))  # T1 extender\n",
    "\n",
    "# 8x Ogre II\n",
    "fit.drones.add(Drone(2446, state=State.active))\n",
    "fit.drones.add(Drone(2446, state=State.active))\n",
    "fit.drones.add(Drone(2446, state=State.active))\n",
    "fit.drones.add(Drone(2446, state=State.active))\n",
    "fit.drones.add(Drone(2446, state=State.active))\n",
    "fit.drones.add(Drone(2446, state=State.offline))\n",
    "fit.drones.add(Drone(2446, state=State.offline))\n",
    "fit.drones.add(Drone(2446, state=State.offline))\n",
    "\n",
    "fit.implants.add(Implant(13231))  # 3% torp dmg\n",
    "fit.implants.add(Implant(10228))  # 3% shield capacity\n",
    "fit.implants.add(Implant(24663))  # zor hyperlink\n",
    "fit.implants.add(Implant(13244))  # 3% turret dmg\n",
    "fit.implants.add(Implant(13219))  # 3% large projectile dmg\n",
    "\n",
    "fit.boosters.add(Booster(28672))  # Synth crash\n",
    "fit.boosters.add(Booster(28674))  # Synth drop"
   ]
  },
  {
   "cell_type": "code",
   "execution_count": 2,
   "id": "6693bf07",
   "metadata": {},
   "outputs": [
    {
     "data": {
      "text/plain": [
       "1858.3066943807341"
      ]
     },
     "execution_count": 2,
     "metadata": {},
     "output_type": "execute_result"
    }
   ],
   "source": [
    "fit.ship.attrs[37]"
   ]
  },
  {
   "cell_type": "markdown",
   "id": "879c3fe5",
   "metadata": {},
   "source": [
    "# DPS"
   ]
  },
  {
   "cell_type": "code",
   "execution_count": null,
   "id": "ccfc906e",
   "metadata": {},
   "outputs": [
    {
     "data": {
      "text/plain": [
       "<Charge(type_id=24519)>"
      ]
     },
     "execution_count": 10,
     "metadata": {},
     "output_type": "execute_result"
    }
   ],
   "source": [
    "fit.modules.high[4].charge"
   ]
  },
  {
   "cell_type": "code",
   "execution_count": null,
   "id": "4d30b524",
   "metadata": {},
   "outputs": [
    {
     "name": "stdout",
     "output_type": "stream",
     "text": [
      "54866.47035675985\n",
      "21568.62745098039\n",
      "107218.67989729247\n"
     ]
    }
   ],
   "source": [
    "print(fit.stats.get_ehp(DmgProfile(em=25, thermal=25, kinetic=25, explosive=25)).shield)\n",
    "print(fit.stats.get_ehp(DmgProfile(em=25, thermal=25, kinetic=25, explosive=25)).armor)\n",
    "print(fit.stats.get_ehp(DmgProfile(em=25, thermal=25, kinetic=25, explosive=25)).total)"
   ]
  },
  {
   "cell_type": "code",
   "execution_count": null,
   "id": "1401f6f0",
   "metadata": {},
   "outputs": [
    {
     "name": "stdout",
     "output_type": "stream",
     "text": [
      "3000.0\n",
      "19350.0\n",
      "5.902875000000002\n"
     ]
    }
   ],
   "source": [
    "print(fit.modules.high[3].optimal_range)\n",
    "print(fit.modules.high[3].falloff_range)\n",
    "print(fit.modules.high[3].tracking_speed)"
   ]
  },
  {
   "cell_type": "code",
   "execution_count": null,
   "id": "25306966",
   "metadata": {},
   "outputs": [
    {
     "name": "stdout",
     "output_type": "stream",
     "text": [
      "_BaseItemMixin__autocharges\n",
      "_BaseItemMixin__effect_mode_overrides\n",
      "_BaseItemMixin__effect_tgts\n",
      "_DefaultEffectProxyMixin__safe_get_from_defeff\n",
      "_DmgDealerMixin__dd_effect_iter\n",
      "_Module__target\n",
      "_MutableStateMixin__state\n",
      "_RemoteRepairMixin__repair_effect_iter\n",
      "_SingleTargetableMixin__target\n",
      "__abstractmethods__\n",
      "__class__\n",
      "__delattr__\n",
      "__dict__\n",
      "__dir__\n",
      "__doc__\n",
      "__eq__\n",
      "__format__\n",
      "__ge__\n",
      "__getattribute__\n",
      "__getstate__\n",
      "__gt__\n",
      "__hash__\n",
      "__init__\n",
      "__init_subclass__\n",
      "__le__\n",
      "__lt__\n",
      "__module__\n",
      "__ne__\n",
      "__new__\n",
      "__reduce__\n",
      "__reduce_ex__\n",
      "__repr__\n",
      "__setattr__\n",
      "__sizeof__\n",
      "__str__\n",
      "__subclasshook__\n",
      "__weakref__\n",
      "_abc_impl\n",
      "_add_autocharge\n",
      "_charge\n",
      "_child_item_iter\n",
      "_clear_autocharges\n",
      "_container\n",
      "_fit\n",
      "_get_effects_tgts\n",
      "_is_loaded\n",
      "_load\n",
      "_modifier_domain\n",
      "_others\n",
      "_owner_modifiable\n",
      "_running_effect_ids\n",
      "_set_effects_modes\n",
      "_solsys_carrier\n",
      "_type\n",
      "_type_attrs\n",
      "_type_default_effect\n",
      "_type_default_effect_id\n",
      "_type_effects\n",
      "_type_id\n",
      "_unload\n",
      "attrs\n",
      "autocharges\n",
      "charge\n",
      "charge_quantity\n",
      "cycle_time\n",
      "cycles_until_reload\n",
      "effects\n",
      "falloff_range\n",
      "get_applied_dps\n",
      "get_applied_volley\n",
      "get_armor_rps\n",
      "get_cap_transmit_per_second\n",
      "get_dps\n",
      "get_effect_mode\n",
      "get_nps\n",
      "get_shield_rps\n",
      "get_volley\n",
      "optimal_range\n",
      "reactivation_delay\n",
      "reload_time\n",
      "set_effect_mode\n",
      "state\n",
      "target\n",
      "tracking_speed\n"
     ]
    }
   ],
   "source": [
    "for attr in dir(fit.modules.high[4]):\n",
    "    print(attr)"
   ]
  },
  {
   "cell_type": "code",
   "execution_count": null,
   "id": "69984806",
   "metadata": {},
   "outputs": [
    {
     "data": {
      "text/plain": [
       "<DmgStats(em=0.0, thermal=0.0, kinetic=0.0, explosive=1627.9126900891974, total=1627.9126900891974)>"
      ]
     },
     "execution_count": 36,
     "metadata": {},
     "output_type": "execute_result"
    }
   ],
   "source": [
    "fit.modules.high[4].get_volley()"
   ]
  },
  {
   "cell_type": "markdown",
   "id": "d3d53766",
   "metadata": {},
   "source": [
    "# EHP"
   ]
  },
  {
   "cell_type": "code",
   "execution_count": null,
   "id": "0951c074",
   "metadata": {},
   "outputs": [
    {
     "name": "stdout",
     "output_type": "stream",
     "text": [
      "<ResistProfile(em=0.7017740974065537, thermal=0.6506977572784562, kinetic=0.6456249999999999, explosive=0.7046874999999999)>\n",
      "<ResistProfile(em=0.6599999999999999, thermal=0.4475, kinetic=0.36250000000000004, explosive=0.235)>\n",
      "<ResistProfile(em=0.598, thermal=0.598, kinetic=0.598, explosive=0.598)>\n"
     ]
    }
   ],
   "source": [
    "print(fit.stats.resists.shield)\n",
    "print(fit.stats.resists.armor)\n",
    "print(fit.stats.resists.hull)"
   ]
  },
  {
   "cell_type": "code",
   "execution_count": null,
   "id": "64dea9c4",
   "metadata": {},
   "outputs": [
    {
     "data": {
      "text/plain": [
       "<DmgStats(em=0.0, thermal=449.7591742798868, kinetic=136.82918697917071, explosive=1308.9409893424486, total=1895.529350601506)>"
      ]
     },
     "execution_count": 21,
     "metadata": {},
     "output_type": "execute_result"
    }
   ],
   "source": [
    "print(fit.stats.get_dps())"
   ]
  },
  {
   "cell_type": "code",
   "execution_count": null,
   "id": "ef764fea",
   "metadata": {},
   "outputs": [
    {
     "data": {
      "text/plain": [
       "332.80098964604883"
      ]
     },
     "execution_count": 11,
     "metadata": {},
     "output_type": "execute_result"
    }
   ],
   "source": [
    "from eos.item_filter import turret_filter, missile_filter, drone_filter, sentry_drone_filter\n",
    "fit.stats.get_dps(turret_filter,tgt_resists=ResistProfile(em=0.2, thermal=0.3, kinetic=0.4, explosive=0.5)).total"
   ]
  },
  {
   "cell_type": "markdown",
   "id": "d8944dc1",
   "metadata": {},
   "source": [
    "# Repair"
   ]
  },
  {
   "cell_type": "code",
   "execution_count": 5,
   "id": "4dce9350",
   "metadata": {},
   "outputs": [
    {
     "name": "stdout",
     "output_type": "stream",
     "text": [
      "_BaseItemMixin__autocharges\n",
      "_BaseItemMixin__effect_mode_overrides\n",
      "_BaseItemMixin__effect_tgts\n",
      "_DefaultEffectProxyMixin__safe_get_from_defeff\n",
      "_DmgDealerMixin__dd_effect_iter\n",
      "_Module__target\n",
      "_MutableStateMixin__state\n",
      "_RemoteRepairMixin__repair_effect_iter\n",
      "_SingleTargetableMixin__target\n",
      "__abstractmethods__\n",
      "__class__\n",
      "__delattr__\n",
      "__dict__\n",
      "__dir__\n",
      "__doc__\n",
      "__eq__\n",
      "__format__\n",
      "__ge__\n",
      "__getattribute__\n",
      "__getstate__\n",
      "__gt__\n",
      "__hash__\n",
      "__init__\n",
      "__init_subclass__\n",
      "__le__\n",
      "__lt__\n",
      "__module__\n",
      "__ne__\n",
      "__new__\n",
      "__reduce__\n",
      "__reduce_ex__\n",
      "__repr__\n",
      "__setattr__\n",
      "__sizeof__\n",
      "__str__\n",
      "__subclasshook__\n",
      "__weakref__\n",
      "_abc_impl\n",
      "_add_autocharge\n",
      "_charge\n",
      "_child_item_iter\n",
      "_clear_autocharges\n",
      "_container\n",
      "_fit\n",
      "_get_effects_tgts\n",
      "_is_loaded\n",
      "_load\n",
      "_modifier_domain\n",
      "_others\n",
      "_owner_modifiable\n",
      "_running_effect_ids\n",
      "_set_effects_modes\n",
      "_solsys_carrier\n",
      "_type\n",
      "_type_attrs\n",
      "_type_default_effect\n",
      "_type_default_effect_id\n",
      "_type_effects\n",
      "_type_id\n",
      "_unload\n",
      "attrs\n",
      "autocharges\n",
      "charge\n",
      "charge_quantity\n",
      "cycle_time\n",
      "cycles_until_reload\n",
      "effects\n",
      "falloff_range\n",
      "get_applied_dps\n",
      "get_applied_volley\n",
      "get_armor_rps\n",
      "get_cap_transmit_per_second\n",
      "get_dps\n",
      "get_effect_mode\n",
      "get_nps\n",
      "get_shield_rps\n",
      "get_volley\n",
      "optimal_range\n",
      "reactivation_delay\n",
      "reload_time\n",
      "set_effect_mode\n",
      "state\n",
      "target\n",
      "tracking_speed\n"
     ]
    }
   ],
   "source": [
    "for attr in dir(fit.modules.high[7]):\n",
    "    print(attr)"
   ]
  },
  {
   "cell_type": "code",
   "execution_count": 12,
   "id": "8fe1592c",
   "metadata": {},
   "outputs": [
    {
     "name": "stdout",
     "output_type": "stream",
     "text": [
      "6750.0\n",
      "53.5\n"
     ]
    }
   ],
   "source": [
    "print(fit.modules.high[7].optimal_range)\n",
    "print(fit.modules.high[7].get_shield_rps())\n",
    "repair_mod = fit.modules.high[7]"
   ]
  },
  {
   "cell_type": "code",
   "execution_count": null,
   "id": "6a461274",
   "metadata": {},
   "outputs": [],
   "source": [
    "rps = 0\n",
    "for effect in repair_mod.__repair_effect_iter(RemoteShieldRepairEffect):\n",
    "    rps += effect.get_rps(repair_mod, reload=False)\n",
    "print(rps)"
   ]
  }
 ],
 "metadata": {
  "kernelspec": {
   "display_name": "base",
   "language": "python",
   "name": "python3"
  },
  "language_info": {
   "codemirror_mode": {
    "name": "ipython",
    "version": 3
   },
   "file_extension": ".py",
   "mimetype": "text/x-python",
   "name": "python",
   "nbconvert_exporter": "python",
   "pygments_lexer": "ipython3",
   "version": "3.12.3"
  }
 },
 "nbformat": 4,
 "nbformat_minor": 5
}
