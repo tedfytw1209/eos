{
 "cells": [
  {
   "cell_type": "code",
   "execution_count": 1,
   "id": "eafeef45",
   "metadata": {},
   "outputs": [],
   "source": [
    "from eos import *\n",
    "from eos.item_filter import *\n",
    "\n",
    "\n",
    "data_handler = JsonDataHandler('data_folder/phobos_tq_en-us/')  # Folder with Phobos data dump\n",
    "cache_handler = JsonCacheHandler('data_folder/cache/eos_tq.json.bz2')\n",
    "SourceManager.add('tiamat', data_handler, cache_handler, make_default=True)\n",
    "\n",
    "skill_groups = set(row['groupID'] for row in data_handler.get_evegroups() if row['categoryID'] == 16)\n",
    "skills = set(row['typeID'] for row in data_handler.get_evetypes() if row['groupID'] in skill_groups)"
   ]
  },
  {
   "cell_type": "code",
   "execution_count": 2,
   "id": "42181e97",
   "metadata": {},
   "outputs": [],
   "source": [
    "basic_fleet_with_command_boosts = Fleet()\n",
    "cmd_ship = Ship(22448) # Absolution\n",
    "cmd_fit = Fit()\n",
    "cmd_fit.ship = cmd_ship\n",
    "for skill_id in skills:\n",
    "    cmd_fit.skills.add(Skill(skill_id, level=5))\n",
    "cmd_fit.modules.high.equip(ModuleHigh(43552, state=State.active, charge=Charge(42832)))\n",
    "cmd_fit.modules.high.equip(ModuleHigh(43552, state=State.active, charge=Charge(42834)))\n",
    "cmd_fit.modules.high.equip(ModuleHigh(43552, state=State.active, charge=Charge(42833)))\n",
    "cmd_fit.implants.add(Implant(13209))\n",
    "basic_fleet_with_command_boosts.fits.add(cmd_fit)"
   ]
  },
  {
   "cell_type": "code",
   "execution_count": 3,
   "id": "27142742",
   "metadata": {},
   "outputs": [],
   "source": [
    "fit = Fit(fleet=basic_fleet_with_command_boosts)\n",
    "fit.ship = Ship(32311)  # Navy Typhoon\n",
    "\n",
    "for skill_id in skills:\n",
    "    fit.skills.add(Skill(skill_id, level=5))\n",
    "\n",
    "# 4x 800mm with hail\n",
    "fit.modules.high.equip(ModuleHigh(2929, state=State.active, charge=Charge(12779)))\n",
    "fit.modules.high.equip(ModuleHigh(2929, state=State.active, charge=Charge(12779)))\n",
    "fit.modules.high.equip(ModuleHigh(2929, state=State.active, charge=Charge(12779)))\n",
    "fit.modules.high.equip(ModuleHigh(2929, state=State.active, charge=Charge(12779)))\n",
    "# 4x Torp launcher with nova rages\n",
    "fit.modules.high.equip(ModuleHigh(2420, state=State.active, charge=Charge(24519)))\n",
    "fit.modules.high.equip(ModuleHigh(2420, state=State.active, charge=Charge(24519)))\n",
    "#Pithum C-Type Medium Remote Shield Booster\n",
    "fit.modules.high.equip(ModuleHigh(19147, state=State.active))\n",
    "fit.modules.high.equip(ModuleHigh(19147, state=State.active))\n",
    "\n",
    "fit.modules.mid.equip(ModuleMid(5945, state=State.overload))  # Top named 100MN MWD\n",
    "fit.modules.mid.equip(ModuleMid(4833, state=State.active, charge=Charge(32014)))  # Named med cap injector with 800\n",
    "fit.modules.mid.equip(ModuleMid(9622, state=State.active))  # Named EM hardener\n",
    "fit.modules.mid.equip(ModuleMid(5443, state=State.active))  # Best named scram\n",
    "fit.modules.mid.equip(ModuleMid(2281, state=State.active))  # T2 invuln\n",
    "\n",
    "fit.modules.low.equip(ModuleLow(2048, state=State.active))   # T2 DC\n",
    "fit.modules.low.equip(ModuleLow(519, state=State.active))    # T2 gyrostab\n",
    "fit.modules.low.equip(ModuleLow(519, state=State.active))    # T2 gyrostab\n",
    "fit.modules.low.equip(ModuleLow(22291, state=State.active))  # T2 BCU\n",
    "fit.modules.low.equip(ModuleLow(22291, state=State.active))  # T2 BCU\n",
    "fit.modules.low.equip(ModuleLow(4405, state=State.active))   # T2 DDA\n",
    "fit.modules.low.equip(ModuleLow(4405, state=State.active))   # T2 DDA\n",
    "\n",
    "fit.rigs.add(Rig(26082))  # T1 therm rig\n",
    "fit.rigs.add(Rig(26088))  # T1 extender\n",
    "fit.rigs.add(Rig(26088))  # T1 extender\n",
    "\n",
    "# 8x Ogre II\n",
    "fit.drones.add(Drone(2446, state=State.active))\n",
    "fit.drones.add(Drone(2446, state=State.active))\n",
    "fit.drones.add(Drone(2446, state=State.active))\n",
    "fit.drones.add(Drone(2446, state=State.active))\n",
    "fit.drones.add(Drone(2446, state=State.active))\n",
    "fit.drones.add(Drone(2446, state=State.offline))\n",
    "fit.drones.add(Drone(2446, state=State.offline))\n",
    "fit.drones.add(Drone(2446, state=State.offline))\n",
    "\n",
    "fit.implants.add(Implant(13231))  # 3% torp dmg\n",
    "fit.implants.add(Implant(10228))  # 3% shield capacity\n",
    "fit.implants.add(Implant(24663))  # zor hyperlink\n",
    "fit.implants.add(Implant(13244))  # 3% turret dmg\n",
    "fit.implants.add(Implant(13219))  # 3% large projectile dmg\n",
    "\n",
    "fit.boosters.add(Booster(28672))  # Synth crash\n",
    "fit.boosters.add(Booster(28674))  # Synth drop\n"
   ]
  },
  {
   "cell_type": "code",
   "execution_count": 4,
   "id": "6693bf07",
   "metadata": {},
   "outputs": [
    {
     "data": {
      "text/plain": [
       "1858.3066943807341"
      ]
     },
     "execution_count": 4,
     "metadata": {},
     "output_type": "execute_result"
    }
   ],
   "source": [
    "fit.ship.attrs[37]"
   ]
  },
  {
   "cell_type": "markdown",
   "id": "879c3fe5",
   "metadata": {},
   "source": [
    "# DPS"
   ]
  },
  {
   "cell_type": "code",
   "execution_count": 5,
   "id": "ccfc906e",
   "metadata": {},
   "outputs": [
    {
     "data": {
      "text/plain": [
       "<Charge(type_id=24519)>"
      ]
     },
     "execution_count": 5,
     "metadata": {},
     "output_type": "execute_result"
    }
   ],
   "source": [
    "fit.modules.high[4].charge"
   ]
  },
  {
   "cell_type": "code",
   "execution_count": 6,
   "id": "4d30b524",
   "metadata": {},
   "outputs": [
    {
     "name": "stdout",
     "output_type": "stream",
     "text": [
      "54866.47035675983\n",
      "21568.62745098039\n",
      "107218.67989729246\n"
     ]
    }
   ],
   "source": [
    "print(fit.stats.get_ehp(DmgProfile(em=25, thermal=25, kinetic=25, explosive=25)).shield)\n",
    "print(fit.stats.get_ehp(DmgProfile(em=25, thermal=25, kinetic=25, explosive=25)).armor)\n",
    "print(fit.stats.get_ehp(DmgProfile(em=25, thermal=25, kinetic=25, explosive=25)).total)"
   ]
  },
  {
   "cell_type": "code",
   "execution_count": 7,
   "id": "1401f6f0",
   "metadata": {},
   "outputs": [
    {
     "name": "stdout",
     "output_type": "stream",
     "text": [
      "3000.0\n",
      "19350.0\n",
      "5.902875\n"
     ]
    }
   ],
   "source": [
    "print(fit.modules.high[3].optimal_range)\n",
    "print(fit.modules.high[3].falloff_range)\n",
    "print(fit.modules.high[3].tracking_speed)"
   ]
  },
  {
   "cell_type": "code",
   "execution_count": 8,
   "id": "25306966",
   "metadata": {},
   "outputs": [
    {
     "name": "stdout",
     "output_type": "stream",
     "text": [
      "_BaseItemMixin__autocharges\n",
      "_BaseItemMixin__effect_mode_overrides\n",
      "_BaseItemMixin__effect_tgts\n",
      "_DefaultEffectProxyMixin__safe_get_from_defeff\n",
      "_DmgDealerMixin__dd_effect_iter\n",
      "_Module__target\n",
      "_MutableStateMixin__state\n",
      "_RemoteRepairMixin__repair_effect_iter\n",
      "_SingleTargetableMixin__target\n",
      "__abstractmethods__\n",
      "__class__\n",
      "__delattr__\n",
      "__dict__\n",
      "__dir__\n",
      "__doc__\n",
      "__eq__\n",
      "__format__\n",
      "__ge__\n",
      "__getattribute__\n",
      "__getstate__\n",
      "__gt__\n",
      "__hash__\n",
      "__init__\n",
      "__init_subclass__\n",
      "__le__\n",
      "__lt__\n",
      "__module__\n",
      "__ne__\n",
      "__new__\n",
      "__reduce__\n",
      "__reduce_ex__\n",
      "__repr__\n",
      "__setattr__\n",
      "__sizeof__\n",
      "__str__\n",
      "__subclasshook__\n",
      "__weakref__\n",
      "_abc_impl\n",
      "_add_autocharge\n",
      "_charge\n",
      "_child_item_iter\n",
      "_clear_autocharges\n",
      "_container\n",
      "_fit\n",
      "_get_effects_tgts\n",
      "_is_loaded\n",
      "_load\n",
      "_modifier_domain\n",
      "_others\n",
      "_owner_modifiable\n",
      "_running_effect_ids\n",
      "_set_effects_modes\n",
      "_solsys_carrier\n",
      "_type\n",
      "_type_attrs\n",
      "_type_default_effect\n",
      "_type_default_effect_id\n",
      "_type_effects\n",
      "_type_id\n",
      "_unload\n",
      "attrs\n",
      "autocharges\n",
      "charge\n",
      "charge_quantity\n",
      "cycle_time\n",
      "cycles_until_reload\n",
      "effects\n",
      "falloff_range\n",
      "get_applied_dps\n",
      "get_applied_volley\n",
      "get_armor_rps\n",
      "get_cap_transmit_per_second\n",
      "get_dps\n",
      "get_effect_mode\n",
      "get_nps\n",
      "get_shield_rps\n",
      "get_volley\n",
      "optimal_range\n",
      "reactivation_delay\n",
      "reload_time\n",
      "set_effect_mode\n",
      "state\n",
      "target\n",
      "tracking_speed\n"
     ]
    }
   ],
   "source": [
    "for attr in dir(fit.modules.high[4]):\n",
    "    print(attr)"
   ]
  },
  {
   "cell_type": "code",
   "execution_count": 9,
   "id": "69984806",
   "metadata": {},
   "outputs": [
    {
     "data": {
      "text/plain": [
       "<DmgStats(em=0.0, thermal=0.0, kinetic=0.0, explosive=1627.9126900891972, total=1627.9126900891972)>"
      ]
     },
     "execution_count": 9,
     "metadata": {},
     "output_type": "execute_result"
    }
   ],
   "source": [
    "fit.modules.high[4].get_volley()"
   ]
  },
  {
   "cell_type": "markdown",
   "id": "d3d53766",
   "metadata": {},
   "source": [
    "# EHP"
   ]
  },
  {
   "cell_type": "code",
   "execution_count": 10,
   "id": "0951c074",
   "metadata": {},
   "outputs": [
    {
     "name": "stdout",
     "output_type": "stream",
     "text": [
      "<ResistProfile(em=0.7017740974065537, thermal=0.6506977572784562, kinetic=0.6456249999999999, explosive=0.7046874999999999)>\n",
      "<ResistProfile(em=0.6599999999999999, thermal=0.4475, kinetic=0.36250000000000004, explosive=0.235)>\n",
      "<ResistProfile(em=0.598, thermal=0.598, kinetic=0.598, explosive=0.598)>\n"
     ]
    }
   ],
   "source": [
    "print(fit.stats.resists.shield)\n",
    "print(fit.stats.resists.armor)\n",
    "print(fit.stats.resists.hull)"
   ]
  },
  {
   "cell_type": "code",
   "execution_count": 11,
   "id": "64dea9c4",
   "metadata": {},
   "outputs": [
    {
     "name": "stdout",
     "output_type": "stream",
     "text": [
      "<DmgStats(em=0.0, thermal=449.7591742798868, kinetic=136.8291869791707, explosive=905.1739721297706, total=1491.7623333888282)>\n"
     ]
    }
   ],
   "source": [
    "print(fit.stats.get_dps())"
   ]
  },
  {
   "cell_type": "code",
   "execution_count": 12,
   "id": "ef764fea",
   "metadata": {},
   "outputs": [
    {
     "data": {
      "text/plain": [
       "332.8009896460488"
      ]
     },
     "execution_count": 12,
     "metadata": {},
     "output_type": "execute_result"
    }
   ],
   "source": [
    "from eos.item_filter import turret_filter, missile_filter, drone_filter, sentry_drone_filter\n",
    "fit.stats.get_dps(turret_filter,tgt_resists=ResistProfile(em=0.2, thermal=0.3, kinetic=0.4, explosive=0.5)).total"
   ]
  },
  {
   "cell_type": "markdown",
   "id": "d8944dc1",
   "metadata": {},
   "source": [
    "# Repair"
   ]
  },
  {
   "cell_type": "code",
   "execution_count": 13,
   "id": "4dce9350",
   "metadata": {},
   "outputs": [
    {
     "name": "stdout",
     "output_type": "stream",
     "text": [
      "_BaseItemMixin__autocharges\n",
      "_BaseItemMixin__effect_mode_overrides\n",
      "_BaseItemMixin__effect_tgts\n",
      "_DefaultEffectProxyMixin__safe_get_from_defeff\n",
      "_DmgDealerMixin__dd_effect_iter\n",
      "_Module__target\n",
      "_MutableStateMixin__state\n",
      "_RemoteRepairMixin__repair_effect_iter\n",
      "_SingleTargetableMixin__target\n",
      "__abstractmethods__\n",
      "__class__\n",
      "__delattr__\n",
      "__dict__\n",
      "__dir__\n",
      "__doc__\n",
      "__eq__\n",
      "__format__\n",
      "__ge__\n",
      "__getattribute__\n",
      "__getstate__\n",
      "__gt__\n",
      "__hash__\n",
      "__init__\n",
      "__init_subclass__\n",
      "__le__\n",
      "__lt__\n",
      "__module__\n",
      "__ne__\n",
      "__new__\n",
      "__reduce__\n",
      "__reduce_ex__\n",
      "__repr__\n",
      "__setattr__\n",
      "__sizeof__\n",
      "__str__\n",
      "__subclasshook__\n",
      "__weakref__\n",
      "_abc_impl\n",
      "_add_autocharge\n",
      "_charge\n",
      "_child_item_iter\n",
      "_clear_autocharges\n",
      "_container\n",
      "_fit\n",
      "_get_effects_tgts\n",
      "_is_loaded\n",
      "_load\n",
      "_modifier_domain\n",
      "_others\n",
      "_owner_modifiable\n",
      "_running_effect_ids\n",
      "_set_effects_modes\n",
      "_solsys_carrier\n",
      "_type\n",
      "_type_attrs\n",
      "_type_default_effect\n",
      "_type_default_effect_id\n",
      "_type_effects\n",
      "_type_id\n",
      "_unload\n",
      "attrs\n",
      "autocharges\n",
      "charge\n",
      "charge_quantity\n",
      "cycle_time\n",
      "cycles_until_reload\n",
      "effects\n",
      "falloff_range\n",
      "get_applied_dps\n",
      "get_applied_volley\n",
      "get_armor_rps\n",
      "get_cap_transmit_per_second\n",
      "get_dps\n",
      "get_effect_mode\n",
      "get_nps\n",
      "get_shield_rps\n",
      "get_volley\n",
      "optimal_range\n",
      "reactivation_delay\n",
      "reload_time\n",
      "set_effect_mode\n",
      "state\n",
      "target\n",
      "tracking_speed\n"
     ]
    }
   ],
   "source": [
    "for attr in dir(fit.modules.high[7]):\n",
    "    print(attr)"
   ]
  },
  {
   "cell_type": "code",
   "execution_count": 14,
   "id": "8fe1592c",
   "metadata": {},
   "outputs": [
    {
     "name": "stdout",
     "output_type": "stream",
     "text": [
      "6750.0\n",
      "10125.0\n",
      "53.5\n"
     ]
    }
   ],
   "source": [
    "print(fit.modules.high[7].optimal_range)\n",
    "print(fit.modules.high[7].falloff_range)\n",
    "print(fit.modules.high[7].get_shield_rps())\n",
    "repair_mod = fit.modules.high[7]"
   ]
  },
  {
   "cell_type": "code",
   "execution_count": 15,
   "id": "4604f174",
   "metadata": {},
   "outputs": [
    {
     "data": {
      "text/plain": [
       "0.0"
      ]
     },
     "execution_count": 15,
     "metadata": {},
     "output_type": "execute_result"
    }
   ],
   "source": [
    "fit.stats.get_shield_rps()"
   ]
  },
  {
   "cell_type": "code",
   "execution_count": 19,
   "id": "41ec5d32",
   "metadata": {},
   "outputs": [
    {
     "name": "stdout",
     "output_type": "stream",
     "text": [
      "209 27.599999999999998\n",
      "600 3.0\n",
      "153 6.9e-08\n",
      "124 16777215.0\n",
      "162 250.0\n",
      "270 0.5525\n",
      "1528 1.0\n",
      "5796 2147483647000.0\n",
      "2045 1.0\n",
      "21 0.0\n",
      "109 0.402\n",
      "2113 1.0\n",
      "3267 100.0\n",
      "482 5437.5\n",
      "49 0.0\n",
      "661 1000.0\n",
      "263 17793.410937499993\n",
      "479 2542500.0\n",
      "422 1.0\n",
      "14 8.0\n",
      "211 0.0\n",
      "274 0.3493022427215437\n",
      "1259 0.82\n",
      "15 0.0\n",
      "4 152600000.0\n",
      "246 397.0\n",
      "490 37.5\n",
      "272 0.29531250000000003\n",
      "37 1858.3066943807341\n",
      "1137 3.0\n",
      "277 2.0\n",
      "3020 1.0\n",
      "1555 500.0\n",
      "13 5.0\n",
      "1199 100.0\n",
      "76 108000.0\n",
      "129 1000.0\n",
      "1132 400.0\n",
      "1154 3.0\n",
      "102 6.0\n",
      "2771 1.0\n",
      "9 12375.0\n",
      "484 1.0\n",
      "524 0.75\n",
      "1527 1.0\n",
      "110 0.402\n",
      "1768 11339.0\n",
      "1178 100.0\n",
      "1200 100.0\n",
      "55 825000.0\n",
      "662 0.5\n",
      "525 1.0\n",
      "265 12375.0\n",
      "217 397.0\n",
      "564 187.5\n",
      "273 0.35437500000000005\n",
      "1261 0.71\n",
      "192 7.0\n",
      "188 0.0\n",
      "210 0.0\n",
      "3 0.0\n",
      "2769 1.0\n",
      "1692 4.0\n",
      "136 1.0\n",
      "1224 0.5\n",
      "19 1.0\n",
      "633 7.0\n",
      "101 6.0\n",
      "161 414000.0\n",
      "12 7.0\n",
      "269 0.6375\n",
      "70 0.07425000000000001\n",
      "268 0.765\n",
      "552 2089.7445990886495\n",
      "2033 1000000.0\n",
      "208 0.0\n",
      "182 3337.0\n",
      "1271 125.0\n",
      "111 0.402\n",
      "11 16250.0\n",
      "1281 1.0\n",
      "2115 1.0\n",
      "267 0.34\n",
      "1179 0.01\n",
      "48 825.0\n",
      "113 0.402\n",
      "271 0.2982259025934463\n",
      "3266 50.0\n",
      "283 200.0\n",
      "518 -37.5\n",
      "79 5062.5\n",
      "38 750.0\n",
      "1196 0.01\n",
      "2770 1.0\n",
      "1547 3.0\n",
      "3268 0.05\n",
      "2768 1.0\n",
      "1262 0.79\n",
      "1198 0.01\n"
     ]
    }
   ],
   "source": [
    "for attr, value in fit.ship.attrs.items():\n",
    "    print(attr, value)"
   ]
  },
  {
   "cell_type": "code",
   "execution_count": 21,
   "id": "9b49cc18",
   "metadata": {},
   "outputs": [
    {
     "name": "stdout",
     "output_type": "stream",
     "text": [
      "1858.3066943807341\n"
     ]
    }
   ],
   "source": [
    "from eos.const.eve import AttrId\n",
    "print(fit.ship.attrs[AttrId.max_velocity])"
   ]
  },
  {
   "cell_type": "code",
   "execution_count": 24,
   "id": "d7f818fb",
   "metadata": {},
   "outputs": [],
   "source": [
    "stats = {\n",
    "            #TODO: Update EOS to consider command boosts\n",
    "            \"ehp\": {\n",
    "                \"shield\": fit.stats.get_ehp().shield,\n",
    "                \"armor\": fit.stats.get_ehp().armor,\n",
    "                \"hull\": fit.stats.get_ehp().hull,\n",
    "                \"total\": fit.stats.get_ehp().total,\n",
    "            },\n",
    "            \"resistance\": {\n",
    "                \"shield\": fit.stats.resists.shield,\n",
    "                \"armor\": fit.stats.resists.armor,\n",
    "                \"hull\": fit.stats.resists.hull,\n",
    "            },\n",
    "            \"hp\": {\n",
    "                \"shield\": fit.ship.hp.shield,\n",
    "                \"armor\": fit.ship.hp.armor,\n",
    "                \"hull\": fit.ship.hp.hull,\n",
    "                \"total\": fit.ship.hp.total,\n",
    "            },\n",
    "            \"movement\": {\n",
    "                \"max_velocity\": fit.ship.attrs[AttrId.max_velocity],\n",
    "                \"signature_radius\": fit.ship.attrs[AttrId.signature_radius],\n",
    "                \"agility_factor\": fit.stats.agility_factor,\n",
    "                \"align_time\": fit.stats.align_time,\n",
    "            },\n",
    "            \"targeting\": {\n",
    "                \"max_target_range\": fit.ship.attrs[AttrId.max_target_range],\n",
    "            },\n",
    "            \"dps\": {\n",
    "                \"turret\": fit.stats.get_dps(turret_filter),\n",
    "                \"missile\": fit.stats.get_dps(missile_filter),\n",
    "                \"drone\": fit.stats.get_dps(drone_filter),\n",
    "                \"total\": fit.stats.get_dps().total\n",
    "            },\n",
    "            \"volley\": {\n",
    "                \"turret\": fit.stats.get_volley(turret_filter),\n",
    "                \"missile\": fit.stats.get_volley(missile_filter),\n",
    "                \"drone\": fit.stats.get_volley(drone_filter),\n",
    "                \"total\": fit.stats.get_volley().total\n",
    "            },\n",
    "        }"
   ]
  },
  {
   "cell_type": "code",
   "execution_count": 25,
   "id": "b85778fe",
   "metadata": {},
   "outputs": [
    {
     "data": {
      "text/plain": [
       "{'ehp': {'shield': 54866.47035675983,\n",
       "  'armor': 21568.62745098039,\n",
       "  'hull': 30783.582089552237,\n",
       "  'total': 107218.67989729246},\n",
       " 'resistance': {'shield': <ResistProfile(em=0.7017740974065537, thermal=0.6506977572784562, kinetic=0.6456249999999999, explosive=0.7046874999999999)>,\n",
       "  'armor': <ResistProfile(em=0.6599999999999999, thermal=0.4475, kinetic=0.36250000000000004, explosive=0.235)>,\n",
       "  'hull': <ResistProfile(em=0.598, thermal=0.598, kinetic=0.598, explosive=0.598)>},\n",
       " 'hp': {'shield': 17793.410937499993,\n",
       "  'armor': 12375.0,\n",
       "  'hull': 12375.0,\n",
       "  'total': 42543.4109375},\n",
       " 'movement': {'max_velocity': 1858.3066943807341,\n",
       "  'signature_radius': 2089.7445990886495,\n",
       "  'agility_factor': 15.70747757338698,\n",
       "  'align_time': 16},\n",
       " 'targeting': {'max_target_range': 108000.0},\n",
       " 'dps': {'turret': <DmgStats(em=0.0, thermal=0.0, kinetic=136.8291869791707, explosive=501.40695491709266, total=638.2361418962633)>,\n",
       "  'missile': <DmgStats(em=0.0, thermal=0.0, kinetic=0.0, explosive=403.7670172126779, total=403.7670172126779)>,\n",
       "  'drone': <DmgStats(em=0.0, thermal=449.7591742798868, kinetic=0.0, explosive=0.0, total=449.7591742798868)>,\n",
       "  'total': 1491.7623333888282},\n",
       " 'volley': {'turret': <DmgStats(em=0.0, thermal=0.0, kinetic=394.3716166502485, explosive=1445.1644110143975, total=1839.536027664646)>,\n",
       "  'missile': <DmgStats(em=0.0, thermal=0.0, kinetic=0.0, explosive=3255.8253801783944, total=3255.8253801783944)>,\n",
       "  'drone': <DmgStats(em=0.0, thermal=1799.0366971195472, kinetic=0.0, explosive=0.0, total=1799.0366971195472)>,\n",
       "  'total': 6894.398104962587}}"
      ]
     },
     "execution_count": 25,
     "metadata": {},
     "output_type": "execute_result"
    }
   ],
   "source": [
    "stats"
   ]
  }
 ],
 "metadata": {
  "kernelspec": {
   "display_name": "base",
   "language": "python",
   "name": "python3"
  },
  "language_info": {
   "codemirror_mode": {
    "name": "ipython",
    "version": 3
   },
   "file_extension": ".py",
   "mimetype": "text/x-python",
   "name": "python",
   "nbconvert_exporter": "python",
   "pygments_lexer": "ipython3",
   "version": "3.12.3"
  }
 },
 "nbformat": 4,
 "nbformat_minor": 5
}
