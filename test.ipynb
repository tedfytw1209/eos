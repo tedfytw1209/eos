{
 "cells": [
  {
   "cell_type": "code",
   "execution_count": 1,
   "id": "eafeef45",
   "metadata": {},
   "outputs": [],
   "source": [
    "from eos import *\n",
    "from eos.item_filter import *\n",
    "\n",
    "\n",
    "data_handler = JsonDataHandler('data_folder/phobos_tq_en-us/')  # Folder with Phobos data dump\n",
    "cache_handler = JsonCacheHandler('data_folder/cache/eos_tq.json.bz2')\n",
    "SourceManager.add('tiamat', data_handler, cache_handler, make_default=True)\n",
    "\n",
    "skill_groups = set(row['groupID'] for row in data_handler.get_evegroups() if row['categoryID'] == 16)\n",
    "skills = set(row['typeID'] for row in data_handler.get_evetypes() if row['groupID'] in skill_groups)\n",
    "\n",
    "fit = Fit()\n",
    "fit.ship = Ship(32311)  # Navy Typhoon\n",
    "\n",
    "for skill_id in skills:\n",
    "    fit.skills.add(Skill(skill_id, level=5))\n",
    "\n",
    "# 4x 800mm with hail\n",
    "fit.modules.high.equip(ModuleHigh(2929, state=State.overload, charge=Charge(12779)))\n",
    "fit.modules.high.equip(ModuleHigh(2929, state=State.overload, charge=Charge(12779)))\n",
    "fit.modules.high.equip(ModuleHigh(2929, state=State.overload, charge=Charge(12779)))\n",
    "fit.modules.high.equip(ModuleHigh(2929, state=State.overload, charge=Charge(12779)))\n",
    "# 4x Torp launcher with nova rages\n",
    "fit.modules.high.equip(ModuleHigh(2420, state=State.overload, charge=Charge(24519)))\n",
    "fit.modules.high.equip(ModuleHigh(2420, state=State.overload, charge=Charge(24519)))\n",
    "fit.modules.high.equip(ModuleHigh(2420, state=State.overload, charge=Charge(24519)))\n",
    "fit.modules.high.equip(ModuleHigh(2420, state=State.overload, charge=Charge(24519)))\n",
    "\n",
    "fit.modules.mid.equip(ModuleMid(5945, state=State.overload))  # Top named 100MN MWD\n",
    "fit.modules.mid.equip(ModuleMid(4833, state=State.active, charge=Charge(32014)))  # Named med cap injector with 800\n",
    "fit.modules.mid.equip(ModuleMid(9622, state=State.active))  # Named EM hardener\n",
    "fit.modules.mid.equip(ModuleMid(5443, state=State.active))  # Best named scram\n",
    "fit.modules.mid.equip(ModuleMid(2281, state=State.active))  # T2 invuln\n",
    "\n",
    "fit.modules.low.equip(ModuleLow(2048, state=State.online))   # T2 DC\n",
    "fit.modules.low.equip(ModuleLow(519, state=State.online))    # T2 gyrostab\n",
    "fit.modules.low.equip(ModuleLow(519, state=State.online))    # T2 gyrostab\n",
    "fit.modules.low.equip(ModuleLow(22291, state=State.online))  # T2 BCU\n",
    "fit.modules.low.equip(ModuleLow(22291, state=State.online))  # T2 BCU\n",
    "fit.modules.low.equip(ModuleLow(4405, state=State.online))   # T2 DDA\n",
    "fit.modules.low.equip(ModuleLow(4405, state=State.online))   # T2 DDA\n",
    "\n",
    "fit.rigs.add(Rig(26082))  # T1 therm rig\n",
    "fit.rigs.add(Rig(26088))  # T1 extender\n",
    "fit.rigs.add(Rig(26088))  # T1 extender\n",
    "\n",
    "# 8x Ogre II\n",
    "fit.drones.add(Drone(2446, state=State.active))\n",
    "fit.drones.add(Drone(2446, state=State.active))\n",
    "fit.drones.add(Drone(2446, state=State.active))\n",
    "fit.drones.add(Drone(2446, state=State.active))\n",
    "fit.drones.add(Drone(2446, state=State.active))\n",
    "fit.drones.add(Drone(2446, state=State.offline))\n",
    "fit.drones.add(Drone(2446, state=State.offline))\n",
    "fit.drones.add(Drone(2446, state=State.offline))\n",
    "\n",
    "fit.implants.add(Implant(13231))  # 3% torp dmg\n",
    "fit.implants.add(Implant(10228))  # 3% shield capacity\n",
    "fit.implants.add(Implant(24663))  # zor hyperlink\n",
    "fit.implants.add(Implant(13244))  # 3% turret dmg\n",
    "fit.implants.add(Implant(13219))  # 3% large projectile dmg\n",
    "\n",
    "fit.boosters.add(Booster(28672))  # Synth crash\n",
    "fit.boosters.add(Booster(28674))  # Synth drop"
   ]
  },
  {
   "cell_type": "code",
   "execution_count": 2,
   "id": "6693bf07",
   "metadata": {},
   "outputs": [
    {
     "data": {
      "text/plain": [
       "1858.3066943807341"
      ]
     },
     "execution_count": 2,
     "metadata": {},
     "output_type": "execute_result"
    }
   ],
   "source": [
    "fit.ship.attrs[37]"
   ]
  },
  {
   "cell_type": "code",
   "execution_count": 3,
   "id": "4d30b524",
   "metadata": {},
   "outputs": [
    {
     "data": {
      "text/plain": [
       "107218.67989729247"
      ]
     },
     "execution_count": 3,
     "metadata": {},
     "output_type": "execute_result"
    }
   ],
   "source": [
    "fit.stats.get_ehp(DmgProfile(em=25, thermal=25, kinetic=25, explosive=25)).total"
   ]
  },
  {
   "cell_type": "code",
   "execution_count": 4,
   "id": "1401f6f0",
   "metadata": {},
   "outputs": [
    {
     "data": {
      "text/plain": [
       "19350.0"
      ]
     },
     "execution_count": 4,
     "metadata": {},
     "output_type": "execute_result"
    }
   ],
   "source": [
    "fit.modules.high[3].optimal_range\n",
    "fit.modules.high[3].falloff_range"
   ]
  },
  {
   "cell_type": "code",
   "execution_count": 5,
   "id": "ef764fea",
   "metadata": {},
   "outputs": [
    {
     "data": {
      "text/plain": [
       "382.721138092956"
      ]
     },
     "execution_count": 5,
     "metadata": {},
     "output_type": "execute_result"
    }
   ],
   "source": [
    "from eos.item_filter import turret_filter, missile_filter, drone_filter, sentry_drone_filter\n",
    "fit.stats.get_dps(turret_filter,tgt_resists=ResistProfile(em=0.2, thermal=0.3, kinetic=0.4, explosive=0.5)).total"
   ]
  }
 ],
 "metadata": {
  "kernelspec": {
   "display_name": "base",
   "language": "python",
   "name": "python3"
  },
  "language_info": {
   "codemirror_mode": {
    "name": "ipython",
    "version": 3
   },
   "file_extension": ".py",
   "mimetype": "text/x-python",
   "name": "python",
   "nbconvert_exporter": "python",
   "pygments_lexer": "ipython3",
   "version": "3.12.3"
  }
 },
 "nbformat": 4,
 "nbformat_minor": 5
}
